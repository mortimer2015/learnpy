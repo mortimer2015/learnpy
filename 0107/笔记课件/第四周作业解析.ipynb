{
 "cells": [
  {
   "cell_type": "markdown",
   "metadata": {},
   "source": [
    "## 扁平化字典"
   ]
  },
  {
   "cell_type": "code",
   "execution_count": 6,
   "metadata": {
    "collapsed": true
   },
   "outputs": [],
   "source": [
    "def flatten(d):\n",
    "    def _flatten(src, dst, prefix=''):\n",
    "        for k, v in src.items():\n",
    "            key = k if prefix == '' else '{}.{}'.format(prefix, k)\n",
    "            if isinstance(v, dict):\n",
    "                _flatten(v, dst, key)\n",
    "            else:\n",
    "                dst[key] = v\n",
    "    result = {}\n",
    "    _flatten(d, result)\n",
    "    return result"
   ]
  },
  {
   "cell_type": "code",
   "execution_count": 7,
   "metadata": {
    "collapsed": false
   },
   "outputs": [
    {
     "data": {
      "text/plain": [
       "{'a': 1, 'b.c': 2, 'd.e.f': 3}"
      ]
     },
     "execution_count": 7,
     "metadata": {},
     "output_type": "execute_result"
    }
   ],
   "source": [
    "flatten({'a': 1, 'b': {'c': 2}, 'd': {'e': {'f': 3}}})"
   ]
  },
  {
   "cell_type": "markdown",
   "metadata": {},
   "source": [
    "## base64编码"
   ]
  },
  {
   "cell_type": "markdown",
   "metadata": {},
   "source": [
    "* table ABCDEFGHIJKLMNOPQRSTUVWXYZabcdefghijklmnopqrstuvwxyz0123456789+/\n",
    "* 输入按三字节(24位)分组， 不足三字节补0\n",
    "* 按6位分组， 转化为整数\n",
    "* 整数作为table的索引\n",
    "* 补0的字节用=表示\n"
   ]
  },
  {
   "cell_type": "code",
   "execution_count": 8,
   "metadata": {
    "collapsed": false
   },
   "outputs": [
    {
     "name": "stdout",
     "output_type": "stream",
     "text": [
      "b'abc'\n",
      "b'def'\n"
     ]
    }
   ],
   "source": [
    "data = b'abcdefg'\n",
    "\n",
    "c = 0\n",
    "for x in range(3, len(data), 3):\n",
    "    print(data[c:x])\n",
    "    c += 3"
   ]
  },
  {
   "cell_type": "code",
   "execution_count": 17,
   "metadata": {
    "collapsed": false
   },
   "outputs": [],
   "source": [
    "i = int.from_bytes(b'abc', 'big')"
   ]
  },
  {
   "cell_type": "code",
   "execution_count": 13,
   "metadata": {
    "collapsed": false
   },
   "outputs": [
    {
     "data": {
      "text/plain": [
       "6382179"
      ]
     },
     "execution_count": 13,
     "metadata": {},
     "output_type": "execute_result"
    }
   ],
   "source": [
    "0b011000010110001001100011"
   ]
  },
  {
   "cell_type": "code",
   "execution_count": 18,
   "metadata": {
    "collapsed": false
   },
   "outputs": [
    {
     "data": {
      "text/plain": [
       "24"
      ]
     },
     "execution_count": 18,
     "metadata": {},
     "output_type": "execute_result"
    }
   ],
   "source": [
    "i >> 18"
   ]
  },
  {
   "cell_type": "code",
   "execution_count": 22,
   "metadata": {
    "collapsed": false
   },
   "outputs": [
    {
     "data": {
      "text/plain": [
       "22"
      ]
     },
     "execution_count": 22,
     "metadata": {},
     "output_type": "execute_result"
    }
   ],
   "source": [
    "i >> 12 & 0x3f"
   ]
  },
  {
   "cell_type": "code",
   "execution_count": 23,
   "metadata": {
    "collapsed": false
   },
   "outputs": [
    {
     "data": {
      "text/plain": [
       "9"
      ]
     },
     "execution_count": 23,
     "metadata": {},
     "output_type": "execute_result"
    }
   ],
   "source": [
    "i >> 6 & 0x3f"
   ]
  },
  {
   "cell_type": "code",
   "execution_count": 24,
   "metadata": {
    "collapsed": false
   },
   "outputs": [
    {
     "data": {
      "text/plain": [
       "35"
      ]
     },
     "execution_count": 24,
     "metadata": {},
     "output_type": "execute_result"
    }
   ],
   "source": [
    "i & 0x3f"
   ]
  },
  {
   "cell_type": "code",
   "execution_count": 25,
   "metadata": {
    "collapsed": true
   },
   "outputs": [],
   "source": [
    "table = b'ABCDEFGHIJKLMNOPQRSTUVWXYZabcdefghijklmnopqrstuvwxyz0123456789+/'"
   ]
  },
  {
   "cell_type": "code",
   "execution_count": 27,
   "metadata": {
    "collapsed": false
   },
   "outputs": [],
   "source": [
    "arr = bytearray()"
   ]
  },
  {
   "cell_type": "code",
   "execution_count": 28,
   "metadata": {
    "collapsed": true
   },
   "outputs": [],
   "source": [
    "arr.extend([table[24], table[22], table[9], table[35]])"
   ]
  },
  {
   "cell_type": "code",
   "execution_count": 29,
   "metadata": {
    "collapsed": false
   },
   "outputs": [
    {
     "data": {
      "text/plain": [
       "bytearray(b'YWJj')"
      ]
     },
     "execution_count": 29,
     "metadata": {},
     "output_type": "execute_result"
    }
   ],
   "source": [
    "arr"
   ]
  },
  {
   "cell_type": "code",
   "execution_count": 30,
   "metadata": {
    "collapsed": true
   },
   "outputs": [],
   "source": [
    "import base64"
   ]
  },
  {
   "cell_type": "code",
   "execution_count": 31,
   "metadata": {
    "collapsed": false
   },
   "outputs": [
    {
     "data": {
      "text/plain": [
       "b'YWJj'"
      ]
     },
     "execution_count": 31,
     "metadata": {},
     "output_type": "execute_result"
    }
   ],
   "source": [
    "base64.b64encode(b'abc')"
   ]
  },
  {
   "cell_type": "code",
   "execution_count": 48,
   "metadata": {
    "collapsed": false
   },
   "outputs": [],
   "source": [
    "def b64encode(data: bytes) -> str:\n",
    "    table = b'ABCDEFGHIJKLMNOPQRSTUVWXYZabcdefghijklmnopqrstuvwxyz0123456789+/'\n",
    "    encoded = bytearray()\n",
    "    c = 0\n",
    "    for x in range(3, len(data)+1, 3):\n",
    "        print(data[c:x])\n",
    "        i = int.from_bytes(data[c: x], 'big')\n",
    "        for j in range(1, 5):\n",
    "            encoded.append(table[i >> (24 - j*6) & 0x3f])\n",
    "        c += 3\n",
    "    r = len(data) - c\n",
    "    if r > 0:\n",
    "        i = int.from_bytes(data[c:], 'big') << (3-r) * 8\n",
    "        for j in range(1, 5-(3-r)):\n",
    "            encoded.append(table[i >> (24 - j*6) & 0x3f])\n",
    "        for _ in range(3-r):\n",
    "            encoded.append(int.from_bytes(b'=', 'big'))\n",
    "    return encoded.decode()"
   ]
  },
  {
   "cell_type": "markdown",
   "metadata": {},
   "source": [
    "## 最长公共子串"
   ]
  },
  {
   "cell_type": "code",
   "execution_count": 51,
   "metadata": {
    "collapsed": true
   },
   "outputs": [],
   "source": [
    "s1 = 'aaaba'"
   ]
  },
  {
   "cell_type": "code",
   "execution_count": 52,
   "metadata": {
    "collapsed": true
   },
   "outputs": [],
   "source": [
    "s2 = 'abaa'"
   ]
  },
  {
   "cell_type": "code",
   "execution_count": null,
   "metadata": {
    "collapsed": true
   },
   "outputs": [],
   "source": [
    "1 1 1 0 1\n",
    "0 0 0 2 0\n",
    "1 1 1 0 3\n",
    "1 2 2 0 1"
   ]
  },
  {
   "cell_type": "code",
   "execution_count": 53,
   "metadata": {
    "collapsed": false
   },
   "outputs": [
    {
     "data": {
      "text/plain": [
       "'aba'"
      ]
     },
     "execution_count": 53,
     "metadata": {},
     "output_type": "execute_result"
    }
   ],
   "source": [
    "s1[2: 2+3]"
   ]
  },
  {
   "cell_type": "code",
   "execution_count": 56,
   "metadata": {
    "collapsed": true
   },
   "outputs": [],
   "source": [
    "def lcs(a, b):\n",
    "    dp = []\n",
    "    ml = 0\n",
    "    mi = 0\n",
    "    for i, x in enumerate(a):\n",
    "        dp.append([])\n",
    "        for j, y in enumerate(b):\n",
    "            if x == y:\n",
    "                if i > 0 and j > 0:\n",
    "                    dp[i].append(dp[i-1][j-1] + 1)\n",
    "                if i == 0 or j == 0:\n",
    "                    dp[i].append(1)\n",
    "                if dp[i][j] > ml:\n",
    "                    ml = dp[i][j]\n",
    "                    mi = i + 1 - ml\n",
    "            else:\n",
    "                dp[i].append(0)\n",
    "    print(dp)\n",
    "    return a[mi:mi+ml]\n",
    "                \n",
    "            "
   ]
  },
  {
   "cell_type": "code",
   "execution_count": 57,
   "metadata": {
    "collapsed": false
   },
   "outputs": [
    {
     "name": "stdout",
     "output_type": "stream",
     "text": [
      "[[1, 0, 1, 1], [1, 0, 1, 2], [1, 0, 1, 2], [0, 2, 0, 0], [1, 0, 3, 1]]\n"
     ]
    },
    {
     "data": {
      "text/plain": [
       "'aba'"
      ]
     },
     "execution_count": 57,
     "metadata": {},
     "output_type": "execute_result"
    }
   ],
   "source": [
    "lcs(s1, s2)"
   ]
  },
  {
   "cell_type": "code",
   "execution_count": 58,
   "metadata": {
    "collapsed": false
   },
   "outputs": [
    {
     "name": "stdout",
     "output_type": "stream",
     "text": [
      "[[1, 1, 1, 0, 1], [0, 0, 0, 2, 0], [1, 1, 1, 0, 3], [1, 2, 2, 0, 1]]\n"
     ]
    },
    {
     "data": {
      "text/plain": [
       "'aba'"
      ]
     },
     "execution_count": 58,
     "metadata": {},
     "output_type": "execute_result"
    }
   ],
   "source": [
    "lcs(s2, s1)"
   ]
  },
  {
   "cell_type": "code",
   "execution_count": null,
   "metadata": {
    "collapsed": true
   },
   "outputs": [],
   "source": [
    "1, 1, 1, 0, 1\n",
    "0, 0, 0, 2, 0\n",
    "1, 1, 1, 0, 3\n",
    "1, 2, 2, 0, 1\n"
   ]
  }
 ],
 "metadata": {
  "kernelspec": {
   "display_name": "Python 3",
   "language": "python",
   "name": "python3"
  },
  "language_info": {
   "codemirror_mode": {
    "name": "ipython",
    "version": 3
   },
   "file_extension": ".py",
   "mimetype": "text/x-python",
   "name": "python",
   "nbconvert_exporter": "python",
   "pygments_lexer": "ipython3",
   "version": "3.5.2"
  }
 },
 "nbformat": 4,
 "nbformat_minor": 2
}
