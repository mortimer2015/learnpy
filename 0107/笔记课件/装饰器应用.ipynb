{
 "cells": [
  {
   "cell_type": "markdown",
   "metadata": {},
   "source": [
    "写一个cache装饰器， 允许过期， 但没有换出，没有清除 （45分钟完成）"
   ]
  },
  {
   "cell_type": "markdown",
   "metadata": {},
   "source": [
    "* cache的必要元素： key -> value\n",
    "* 超时时间"
   ]
  },
  {
   "cell_type": "code",
   "execution_count": 1,
   "metadata": {
    "collapsed": true
   },
   "outputs": [],
   "source": [
    "import inspect"
   ]
  },
  {
   "cell_type": "code",
   "execution_count": 2,
   "metadata": {
    "collapsed": true
   },
   "outputs": [],
   "source": [
    "def add(x, y):\n",
    "    pass"
   ]
  },
  {
   "cell_type": "code",
   "execution_count": 4,
   "metadata": {
    "collapsed": false
   },
   "outputs": [],
   "source": [
    "sig = inspect.signature(add)"
   ]
  },
  {
   "cell_type": "code",
   "execution_count": 7,
   "metadata": {
    "collapsed": false
   },
   "outputs": [
    {
     "name": "stdout",
     "output_type": "stream",
     "text": [
      "x\n",
      "y\n"
     ]
    }
   ],
   "source": [
    "for k in sig.parameters.keys():\n",
    "    print(k)"
   ]
  },
  {
   "cell_type": "code",
   "execution_count": 34,
   "metadata": {
    "collapsed": false
   },
   "outputs": [],
   "source": [
    "from functools import wraps\n",
    "import inspect\n",
    "import datetime\n",
    "\n",
    "def cache(exp=0):\n",
    "    def _cache(fn): ## fn cache\n",
    "        cache = {}\n",
    "        @wraps(fn)\n",
    "        def wrap(*args, **kwargs):\n",
    "            # TODO key 如何拼装\n",
    "            key = []\n",
    "            names = set()\n",
    "            params = inspect.signature(fn).parameters\n",
    "            for i, arg in enumerate(args):\n",
    "                name = list(params.keys())[i]\n",
    "                key.append((name, arg))\n",
    "                names.add(name)\n",
    "            key.extend(kwargs.items())\n",
    "            names.update(kwargs.keys())\n",
    "            for k, v in params.items():\n",
    "                if k not in names:\n",
    "                    key.append((k, v.default))\n",
    "            key.sort(key=lambda x: x[0])\n",
    "            key = '&'.join(['{}={}'.format(name, arg) for name, arg in key])\n",
    "            print(key)\n",
    "            if key in cache.keys():\n",
    "                ret, timestamp = cache[key]\n",
    "                if exp == 0 or datetime.datetime.now().timestamp() - timestamp < exp:\n",
    "                    print('cache hit')\n",
    "                    return ret\n",
    "            ret = fn(*args, **kwargs)\n",
    "            print('cache miss')\n",
    "            cache[key] = (ret, datetime.datetime.now().timestamp())\n",
    "            return ret\n",
    "        return wrap\n",
    "    return _cache"
   ]
  },
  {
   "cell_type": "code",
   "execution_count": 35,
   "metadata": {
    "collapsed": true
   },
   "outputs": [],
   "source": [
    "@cache(5)\n",
    "def add(x, y=3):\n",
    "    return x + y"
   ]
  },
  {
   "cell_type": "code",
   "execution_count": 39,
   "metadata": {
    "collapsed": false
   },
   "outputs": [
    {
     "name": "stdout",
     "output_type": "stream",
     "text": [
      "x=1&y=3\n",
      "cache miss\n"
     ]
    },
    {
     "data": {
      "text/plain": [
       "4"
      ]
     },
     "execution_count": 39,
     "metadata": {},
     "output_type": "execute_result"
    }
   ],
   "source": [
    "add(1, 3)"
   ]
  },
  {
   "cell_type": "markdown",
   "metadata": {},
   "source": [
    "写一个通用的命令分发器， 程序员可以方便的注册函数到某个命令， 当用户输入某个命令时， 路由到注册的函数， 如果此命令没有注册函数，执行默认函数"
   ]
  },
  {
   "cell_type": "code",
   "execution_count": 42,
   "metadata": {
    "collapsed": false
   },
   "outputs": [
    {
     "name": "stdout",
     "output_type": "stream",
     "text": [
      ">>test\n"
     ]
    },
    {
     "data": {
      "text/plain": [
       "'test'"
      ]
     },
     "execution_count": 42,
     "metadata": {},
     "output_type": "execute_result"
    }
   ],
   "source": [
    "input('>>')"
   ]
  },
  {
   "cell_type": "code",
   "execution_count": 53,
   "metadata": {
    "collapsed": true
   },
   "outputs": [],
   "source": [
    "def command():\n",
    "    commands = {}\n",
    "\n",
    "    def register(command):\n",
    "        def _register(fn):\n",
    "            if command in commands:\n",
    "                raise Exception('command {} exist'.format(command))\n",
    "            commands[command] = fn\n",
    "            return fn\n",
    "        return _register\n",
    "\n",
    "    def default_fn():\n",
    "        print('unkonwn command')\n",
    "\n",
    "    def run():\n",
    "        while True:\n",
    "            cmd = input('>>')\n",
    "            if cmd.strip() == 'quit':\n",
    "                return\n",
    "            commands.get(cmd.strip(),default_fn)()\n",
    "    \n",
    "    return register, run\n",
    "    "
   ]
  },
  {
   "cell_type": "code",
   "execution_count": 54,
   "metadata": {
    "collapsed": true
   },
   "outputs": [],
   "source": [
    "register, run = command()"
   ]
  },
  {
   "cell_type": "code",
   "execution_count": 55,
   "metadata": {
    "collapsed": false
   },
   "outputs": [],
   "source": [
    "@register('papa')\n",
    "def papa():\n",
    "    print('papa')"
   ]
  },
  {
   "cell_type": "code",
   "execution_count": 48,
   "metadata": {
    "collapsed": false
   },
   "outputs": [],
   "source": [
    "register('papa', papa)"
   ]
  },
  {
   "cell_type": "code",
   "execution_count": 56,
   "metadata": {
    "collapsed": false
   },
   "outputs": [
    {
     "name": "stdout",
     "output_type": "stream",
     "text": [
      ">>papa\n",
      "papa\n",
      ">>haha\n",
      "unkonwn command\n",
      ">>quit\n"
     ]
    }
   ],
   "source": [
    "run()"
   ]
  },
  {
   "cell_type": "markdown",
   "metadata": {},
   "source": [
    "## 装饰器的用途"
   ]
  },
  {
   "cell_type": "markdown",
   "metadata": {},
   "source": [
    "AOP"
   ]
  },
  {
   "cell_type": "markdown",
   "metadata": {},
   "source": [
    "针对一类问题做处理"
   ]
  },
  {
   "cell_type": "markdown",
   "metadata": {},
   "source": [
    "与具体业务逻辑无关"
   ]
  },
  {
   "cell_type": "markdown",
   "metadata": {},
   "source": [
    "常见的装饰器使用场景："
   ]
  },
  {
   "cell_type": "markdown",
   "metadata": {},
   "source": [
    "监控、缓存、路由、权限、参数检查、审计"
   ]
  },
  {
   "cell_type": "code",
   "execution_count": null,
   "metadata": {
    "collapsed": true
   },
   "outputs": [],
   "source": []
  }
 ],
 "metadata": {
  "kernelspec": {
   "display_name": "Python 3",
   "language": "python",
   "name": "python3"
  },
  "language_info": {
   "codemirror_mode": {
    "name": "ipython",
    "version": 3
   },
   "file_extension": ".py",
   "mimetype": "text/x-python",
   "name": "python",
   "nbconvert_exporter": "python",
   "pygments_lexer": "ipython3",
   "version": "3.5.2"
  }
 },
 "nbformat": 4,
 "nbformat_minor": 2
}
